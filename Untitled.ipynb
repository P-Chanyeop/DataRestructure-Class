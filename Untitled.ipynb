{
 "cells": [
  {
   "cell_type": "code",
   "execution_count": 1,
   "id": "fdbdde9b",
   "metadata": {},
   "outputs": [
    {
     "ename": "ModuleNotFoundError",
     "evalue": "No module named 'DES_Algorithm'",
     "output_type": "error",
     "traceback": [
      "\u001b[0;31m---------------------------------------------------------------------------\u001b[0m",
      "\u001b[0;31mModuleNotFoundError\u001b[0m                       Traceback (most recent call last)",
      "Cell \u001b[0;32mIn[1], line 4\u001b[0m\n\u001b[1;32m      2\u001b[0m \u001b[38;5;28;01mfrom\u001b[39;00m \u001b[38;5;21;01mos\u001b[39;00m\u001b[38;5;21;01m.\u001b[39;00m\u001b[38;5;21;01mpath\u001b[39;00m \u001b[38;5;28;01mimport\u001b[39;00m exists\n\u001b[1;32m      3\u001b[0m \u001b[38;5;28;01mimport\u001b[39;00m \u001b[38;5;21;01msys\u001b[39;00m\n\u001b[0;32m----> 4\u001b[0m \u001b[38;5;28;01mimport\u001b[39;00m \u001b[38;5;21;01mDES_Algorithm\u001b[39;00m \u001b[38;5;28;01mas\u001b[39;00m \u001b[38;5;21;01mdes\u001b[39;00m\n\u001b[1;32m      5\u001b[0m \u001b[38;5;28;01mfrom\u001b[39;00m \u001b[38;5;21;01mPIL\u001b[39;00m \u001b[38;5;28;01mimport\u001b[39;00m Image\n\u001b[1;32m      6\u001b[0m \u001b[38;5;28;01mimport\u001b[39;00m \u001b[38;5;21;01mnumpy\u001b[39;00m \u001b[38;5;28;01mas\u001b[39;00m \u001b[38;5;21;01mnp\u001b[39;00m\n",
      "\u001b[0;31mModuleNotFoundError\u001b[0m: No module named 'DES_Algorithm'"
     ]
    }
   ],
   "source": [
    "from socket import *\n",
    "from os.path import exists\n",
    "import sys\n",
    "import DES_Algorithm as des\n",
    "from PIL import Image\n",
    "import numpy as np\n",
    "\n",
    "print('클라이언트의 접속을 기다리는중...')\n",
    "\n",
    "serverSock = socket(AF_INET, SOCK_STREAM)\n",
    "serverSock.bind(('', 8080))\n",
    "serverSock.listen(1)\n",
    "connectionSock, addr = serverSock.accept()\n",
    "\n",
    "print(str(addr),'에서 접속했습니다')\n",
    "\n",
    "if connectionSock:\n",
    "    filename = connectionSock.recv(1024) #클라이언트한테 파일이름(이진 바이트 스트림 형태)을 전달 받는다\n",
    "    filename = filename.decode(\"utf-8\")\n",
    "    print('받은 데이터 : ', filename) #파일 이름을 일반 문자열로 변환한다\n",
    "    data_transferred = 0\n",
    "\n",
    "    # 이미지 파일 열기\n",
    "    img = Image.open(filename + '.jpg')\n",
    "\n",
    "    # 이미지 파일을 numpy 배열로 변환하기\n",
    "    img_arr = np.array(img)\n",
    "\n",
    "    # 복호화 후 이미지 저장\n",
    "    des.DES_CBC_decrypt(img_arr, [1,2,3,4,5,6,7,8], round = 16)\n",
    "    print('암호화된 이미지 복호화 >>> \"Encrypted_img.jpg\" 이름으로 저장 완료.')\n",
    "\n",
    "\n",
    "    if not exists('Encrypted_img.jpg'):\n",
    "        print(\"no file\")\n",
    "        sys.exit()\n",
    "\n",
    "    print(\"파일 %s 전송 시작\" % 'Encrypted_img.jpg')\n",
    "    with open('Encryted_img.jpg', 'rb') as f:\n",
    "        try:\n",
    "            data = f.read(1024) #1024바이트 읽는다\n",
    "            while data: #데이터가 없을 때까지\n",
    "                data_transferred += connectionSock.send(data) #1024바이트 보내고 크기 저장\n",
    "                data = f.read(1024) #1024바이트 읽음\n",
    "                \n",
    "        except Exception as ex:\n",
    "            print(ex)\n",
    "    print('전송완료 \"Encrypted_img.jpg\", 전송량 %d' % data_transferred)\n",
    "    print(data)"
   ]
  },
  {
   "cell_type": "code",
   "execution_count": null,
   "id": "834daaa3",
   "metadata": {},
   "outputs": [],
   "source": []
  }
 ],
 "metadata": {
  "kernelspec": {
   "display_name": "Python 3 (ipykernel)",
   "language": "python",
   "name": "python3"
  },
  "language_info": {
   "codemirror_mode": {
    "name": "ipython",
    "version": 3
   },
   "file_extension": ".py",
   "mimetype": "text/x-python",
   "name": "python",
   "nbconvert_exporter": "python",
   "pygments_lexer": "ipython3",
   "version": "3.8.16"
  }
 },
 "nbformat": 4,
 "nbformat_minor": 5
}
