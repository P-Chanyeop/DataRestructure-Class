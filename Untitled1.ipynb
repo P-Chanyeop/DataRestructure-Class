{
 "cells": [
  {
   "cell_type": "code",
   "execution_count": null,
   "id": "a0b8c3bb",
   "metadata": {},
   "outputs": [],
   "source": [
    "from socket import *\n",
    "import os\n",
    "import sys\n",
    "import DES_Algorithm as des\n",
    "from PIL import Image\n",
    "import numpy as np\n",
    "\n",
    "\n",
    "clientSock = socket(AF_INET, SOCK_STREAM)\n",
    "clientSock.connect(('localhost', 8080))\n",
    "\n",
    "print('연결에 성공했습니다.')\n",
    "filename = input('전송할 파일 이름을 입력하세요: ')\n",
    "clientSock.sendall(filename.encode('utf-8'))\n",
    "\n",
    "data = clientSock.recv(1024)\n",
    "data_transferred = 0\n",
    "\n",
    "\n",
    "\n",
    "\n",
    "if not data:\n",
    "    print('파일 %s 가 서버에 존재하지 않음' %filename)\n",
    "    sys.exit()\n",
    "\n",
    "nowdir = os.getcwd()\n",
    "with open(nowdir+\"/\"+filename, 'wb') as f: #현재dir에 filename으로 파일을 받는다\n",
    "    try:\n",
    "        while data: #데이터가 있을 때까지\n",
    "            f.write(data) #1024바이트 쓴다\n",
    "            data_transferred += len(data)\n",
    "            data = clientSock.recv(1024) #1024바이트를 받아 온다\n",
    "    except Exception as ex:\n",
    "        print(ex)\n",
    "print('파일 %s 받기 완료. 전송량 %d' %(filename, data_transferred))\n",
    "\n",
    "# 이미지 파일 열기\n",
    "img = Image.open('Encrypted_img.jpg')\n",
    "\n",
    "# 이미지 파일을 numpy 배열로 변환하기\n",
    "img_arr = np.array(img)\n",
    "\n",
    "# 복호화 후 이미지 저장\n",
    "des.DES_CBC_decrypt(img_arr, [1,2,3,4,5,6,7,8], round = 16)\n",
    "print('암호화된 이미지 복호화 >>> \"Decrypted_img\" 이름으로 저장 완료.')"
   ]
  }
 ],
 "metadata": {
  "kernelspec": {
   "display_name": "Python 3 (ipykernel)",
   "language": "python",
   "name": "python3"
  },
  "language_info": {
   "codemirror_mode": {
    "name": "ipython",
    "version": 3
   },
   "file_extension": ".py",
   "mimetype": "text/x-python",
   "name": "python",
   "nbconvert_exporter": "python",
   "pygments_lexer": "ipython3",
   "version": "3.8.16"
  }
 },
 "nbformat": 4,
 "nbformat_minor": 5
}
